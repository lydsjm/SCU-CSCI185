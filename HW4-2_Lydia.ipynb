{
 "cells": [
  {
   "cell_type": "code",
   "execution_count": 11,
   "metadata": {},
   "outputs": [],
   "source": [
    "import numpy as np\n",
    "\n",
    "def load_graph(filename):\n",
    "    edges = np.loadtxt(filename, dtype=int)\n",
    "    return edges\n",
    "\n",
    "def find_sinks(edges, num_nodes):\n",
    "    out_deg = np.zeros(num_nodes, dtype=int)\n",
    "    for src, _ in edges:\n",
    "        out_deg[src] += 1\n",
    "    sinks = np.where(out_deg == 0)[0]\n",
    "    np.savetxt('sinks.csv', sinks, fmt='%d')\n",
    "    return set(sinks)\n",
    "\n",
    "def matrix(edges, num_nodes, sinks, alpha=0.85):\n",
    "    M = np.zeros((num_nodes, num_nodes))\n",
    "    for src, dst in edges:\n",
    "        M[dst, src] += 1\n",
    "    \n",
    "    for j in range(num_nodes):\n",
    "        if np.sum(M[:, j]) > 0:\n",
    "            M[:, j] /= np.sum(M[:, j])\n",
    "    \n",
    "    for s in sinks:\n",
    "        M[:, s] = 1 / num_nodes\n",
    "    \n",
    "    return alpha * M + (1 - alpha) / num_nodes\n",
    "\n",
    "def pagerank(M, num_nodes, T=10):\n",
    "    PR = np.ones(num_nodes) / num_nodes\n",
    "    for _ in range(T):\n",
    "        PR = M @ PR\n",
    "    return PR\n",
    "\n",
    "def save_pagerank(PR, filename='PR_results.csv'):\n",
    "    sorted_indices = np.argsort(-PR)\n",
    "    results = np.column_stack((sorted_indices, PR[sorted_indices]))\n",
    "    np.savetxt(filename, results, fmt='%d,%.6f', delimiter=',')\n",
    "\n",
    "def main():\n",
    "    filename = 'p2p-Gnutella04.txt'\n",
    "    edges = load_graph(filename)\n",
    "\n",
    "    max_node_id = max(np.max(edges[:, 0]), np.max(edges[:, 1]))\n",
    "    num_nodes = max(10876, max_node_id + 1)\n",
    "\n",
    "    edges = load_graph(filename)\n",
    "    sinks = find_sinks(edges, num_nodes)\n",
    "    edges = np.array([edge for edge in edges if edge[0] not in sinks])\n",
    "    M = matrix(edges, num_nodes, sinks)\n",
    "    PR = pagerank(M, num_nodes)\n",
    "    save_pagerank(PR)\n",
    "    \n",
    "if __name__ == \"__main__\":\n",
    "    main()\n"
   ]
  }
 ],
 "metadata": {
  "kernelspec": {
   "display_name": "Python 3",
   "language": "python",
   "name": "python3"
  },
  "language_info": {
   "codemirror_mode": {
    "name": "ipython",
    "version": 3
   },
   "file_extension": ".py",
   "mimetype": "text/x-python",
   "name": "python",
   "nbconvert_exporter": "python",
   "pygments_lexer": "ipython3",
   "version": "3.9.6"
  }
 },
 "nbformat": 4,
 "nbformat_minor": 2
}
